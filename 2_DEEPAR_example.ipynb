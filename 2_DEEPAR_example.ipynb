{
  "cells": [
    {
      "cell_type": "code",
      "source": [
        "from google.colab import drive\n",
        "drive.mount('/content/drive')"
      ],
      "metadata": {
        "id": "ZyYBFwnnr-S2",
        "colab": {
          "base_uri": "https://localhost:8080/"
        },
        "outputId": "b77d7c14-1ef7-43f9-931f-afcffc086290"
      },
      "id": "ZyYBFwnnr-S2",
      "execution_count": null,
      "outputs": [
        {
          "output_type": "stream",
          "name": "stdout",
          "text": [
            "Mounted at /content/drive\n"
          ]
        }
      ]
    },
    {
      "cell_type": "code",
      "source": [
        "!pip install pytorch-forecasting"
      ],
      "metadata": {
        "id": "XnOH76LjsGtX",
        "colab": {
          "base_uri": "https://localhost:8080/"
        },
        "outputId": "2fc86127-8568-46fc-be7a-81afe2b027ec"
      },
      "id": "XnOH76LjsGtX",
      "execution_count": null,
      "outputs": [
        {
          "output_type": "stream",
          "name": "stdout",
          "text": [
            "Collecting pytorch-forecasting\n",
            "  Downloading pytorch_forecasting-1.0.0-py3-none-any.whl (140 kB)\n",
            "\u001b[2K     \u001b[90m━━━━━━━━━━━━━━━━━━━━━━━━━━━━━━━━━━━━━━━\u001b[0m \u001b[32m140.4/140.4 kB\u001b[0m \u001b[31m3.3 MB/s\u001b[0m eta \u001b[36m0:00:00\u001b[0m\n",
            "\u001b[?25hCollecting fastapi>=0.80 (from pytorch-forecasting)\n",
            "  Downloading fastapi-0.100.0-py3-none-any.whl (65 kB)\n",
            "\u001b[2K     \u001b[90m━━━━━━━━━━━━━━━━━━━━━━━━━━━━━━━━━━━━━━━━\u001b[0m \u001b[32m65.7/65.7 kB\u001b[0m \u001b[31m8.3 MB/s\u001b[0m eta \u001b[36m0:00:00\u001b[0m\n",
            "\u001b[?25hCollecting lightning<3.0.0,>=2.0.0 (from pytorch-forecasting)\n",
            "  Downloading lightning-2.0.5-py3-none-any.whl (1.9 MB)\n",
            "\u001b[2K     \u001b[90m━━━━━━━━━━━━━━━━━━━━━━━━━━━━━━━━━━━━━━━━\u001b[0m \u001b[32m1.9/1.9 MB\u001b[0m \u001b[31m64.8 MB/s\u001b[0m eta \u001b[36m0:00:00\u001b[0m\n",
            "\u001b[?25hRequirement already satisfied: matplotlib in /usr/local/lib/python3.10/dist-packages (from pytorch-forecasting) (3.7.1)\n",
            "Collecting optuna<4.0.0,>=3.1.0 (from pytorch-forecasting)\n",
            "  Downloading optuna-3.2.0-py3-none-any.whl (390 kB)\n",
            "\u001b[2K     \u001b[90m━━━━━━━━━━━━━━━━━━━━━━━━━━━━━━━━━━━━━━\u001b[0m \u001b[32m390.6/390.6 kB\u001b[0m \u001b[31m42.3 MB/s\u001b[0m eta \u001b[36m0:00:00\u001b[0m\n",
            "\u001b[?25hRequirement already satisfied: pandas<=3.0.0,>=1.3.0 in /usr/local/lib/python3.10/dist-packages (from pytorch-forecasting) (1.5.3)\n",
            "Collecting pytorch-optimizer<3.0.0,>=2.5.1 (from pytorch-forecasting)\n",
            "  Downloading pytorch_optimizer-2.11.1-py3-none-any.whl (156 kB)\n",
            "\u001b[2K     \u001b[90m━━━━━━━━━━━━━━━━━━━━━━━━━━━━━━━━━━━━━━\u001b[0m \u001b[32m156.3/156.3 kB\u001b[0m \u001b[31m20.4 MB/s\u001b[0m eta \u001b[36m0:00:00\u001b[0m\n",
            "\u001b[?25hRequirement already satisfied: scikit-learn<2.0,>=1.2 in /usr/local/lib/python3.10/dist-packages (from pytorch-forecasting) (1.2.2)\n",
            "Requirement already satisfied: scipy<2.0,>=1.8 in /usr/local/lib/python3.10/dist-packages (from pytorch-forecasting) (1.10.1)\n",
            "Requirement already satisfied: statsmodels in /usr/local/lib/python3.10/dist-packages (from pytorch-forecasting) (0.13.5)\n",
            "Requirement already satisfied: torch<3.0.0,>=2.0.0 in /usr/local/lib/python3.10/dist-packages (from pytorch-forecasting) (2.0.1+cu118)\n",
            "Requirement already satisfied: pydantic!=1.8,!=1.8.1,!=2.0.0,!=2.0.1,<3.0.0,>=1.7.4 in /usr/local/lib/python3.10/dist-packages (from fastapi>=0.80->pytorch-forecasting) (1.10.11)\n",
            "Collecting starlette<0.28.0,>=0.27.0 (from fastapi>=0.80->pytorch-forecasting)\n",
            "  Downloading starlette-0.27.0-py3-none-any.whl (66 kB)\n",
            "\u001b[2K     \u001b[90m━━━━━━━━━━━━━━━━━━━━━━━━━━━━━━━━━━━━━━━━\u001b[0m \u001b[32m67.0/67.0 kB\u001b[0m \u001b[31m9.0 MB/s\u001b[0m eta \u001b[36m0:00:00\u001b[0m\n",
            "\u001b[?25hRequirement already satisfied: typing-extensions>=4.5.0 in /usr/local/lib/python3.10/dist-packages (from fastapi>=0.80->pytorch-forecasting) (4.7.1)\n",
            "Requirement already satisfied: Jinja2<5.0 in /usr/local/lib/python3.10/dist-packages (from lightning<3.0.0,>=2.0.0->pytorch-forecasting) (3.1.2)\n",
            "Requirement already satisfied: PyYAML<8.0 in /usr/local/lib/python3.10/dist-packages (from lightning<3.0.0,>=2.0.0->pytorch-forecasting) (6.0)\n",
            "Collecting arrow<3.0,>=1.2.0 (from lightning<3.0.0,>=2.0.0->pytorch-forecasting)\n",
            "  Downloading arrow-1.2.3-py3-none-any.whl (66 kB)\n",
            "\u001b[2K     \u001b[90m━━━━━━━━━━━━━━━━━━━━━━━━━━━━━━━━━━━━━━━━\u001b[0m \u001b[32m66.4/66.4 kB\u001b[0m \u001b[31m10.0 MB/s\u001b[0m eta \u001b[36m0:00:00\u001b[0m\n",
            "\u001b[?25hCollecting backoff<4.0,>=2.2.1 (from lightning<3.0.0,>=2.0.0->pytorch-forecasting)\n",
            "  Downloading backoff-2.2.1-py3-none-any.whl (15 kB)\n",
            "Requirement already satisfied: beautifulsoup4<6.0,>=4.8.0 in /usr/local/lib/python3.10/dist-packages (from lightning<3.0.0,>=2.0.0->pytorch-forecasting) (4.11.2)\n",
            "Requirement already satisfied: click<10.0 in /usr/local/lib/python3.10/dist-packages (from lightning<3.0.0,>=2.0.0->pytorch-forecasting) (8.1.4)\n",
            "Collecting croniter<1.5.0,>=1.3.0 (from lightning<3.0.0,>=2.0.0->pytorch-forecasting)\n",
            "  Downloading croniter-1.4.1-py2.py3-none-any.whl (19 kB)\n",
            "Collecting dateutils<2.0 (from lightning<3.0.0,>=2.0.0->pytorch-forecasting)\n",
            "  Downloading dateutils-0.6.12-py2.py3-none-any.whl (5.7 kB)\n",
            "Collecting deepdiff<8.0,>=5.7.0 (from lightning<3.0.0,>=2.0.0->pytorch-forecasting)\n",
            "  Downloading deepdiff-6.3.1-py3-none-any.whl (70 kB)\n",
            "\u001b[2K     \u001b[90m━━━━━━━━━━━━━━━━━━━━━━━━━━━━━━━━━━━━━━━━\u001b[0m \u001b[32m70.7/70.7 kB\u001b[0m \u001b[31m9.6 MB/s\u001b[0m eta \u001b[36m0:00:00\u001b[0m\n",
            "\u001b[?25hRequirement already satisfied: fsspec<2025.0,>=2022.5.0 in /usr/local/lib/python3.10/dist-packages (from lightning<3.0.0,>=2.0.0->pytorch-forecasting) (2023.6.0)\n",
            "Collecting inquirer<5.0,>=2.10.0 (from lightning<3.0.0,>=2.0.0->pytorch-forecasting)\n",
            "  Downloading inquirer-3.1.3-py3-none-any.whl (18 kB)\n",
            "Collecting lightning-cloud>=0.5.37 (from lightning<3.0.0,>=2.0.0->pytorch-forecasting)\n",
            "  Downloading lightning_cloud-0.5.37-py3-none-any.whl (596 kB)\n",
            "\u001b[2K     \u001b[90m━━━━━━━━━━━━━━━━━━━━━━━━━━━━━━━━━━━━━━\u001b[0m \u001b[32m596.7/596.7 kB\u001b[0m \u001b[31m54.0 MB/s\u001b[0m eta \u001b[36m0:00:00\u001b[0m\n",
            "\u001b[?25hCollecting lightning-utilities<2.0,>=0.7.0 (from lightning<3.0.0,>=2.0.0->pytorch-forecasting)\n",
            "  Downloading lightning_utilities-0.9.0-py3-none-any.whl (23 kB)\n",
            "Requirement already satisfied: numpy<3.0,>=1.17.2 in /usr/local/lib/python3.10/dist-packages (from lightning<3.0.0,>=2.0.0->pytorch-forecasting) (1.22.4)\n",
            "Requirement already satisfied: packaging in /usr/local/lib/python3.10/dist-packages (from lightning<3.0.0,>=2.0.0->pytorch-forecasting) (23.1)\n",
            "Requirement already satisfied: psutil<7.0 in /usr/local/lib/python3.10/dist-packages (from lightning<3.0.0,>=2.0.0->pytorch-forecasting) (5.9.5)\n",
            "Collecting python-multipart<2.0,>=0.0.5 (from lightning<3.0.0,>=2.0.0->pytorch-forecasting)\n",
            "  Downloading python_multipart-0.0.6-py3-none-any.whl (45 kB)\n",
            "\u001b[2K     \u001b[90m━━━━━━━━━━━━━━━━━━━━━━━━━━━━━━━━━━━━━━━━\u001b[0m \u001b[32m45.7/45.7 kB\u001b[0m \u001b[31m6.4 MB/s\u001b[0m eta \u001b[36m0:00:00\u001b[0m\n",
            "\u001b[?25hRequirement already satisfied: requests<4.0 in /usr/local/lib/python3.10/dist-packages (from lightning<3.0.0,>=2.0.0->pytorch-forecasting) (2.27.1)\n",
            "Requirement already satisfied: rich<15.0,>=12.3.0 in /usr/local/lib/python3.10/dist-packages (from lightning<3.0.0,>=2.0.0->pytorch-forecasting) (13.4.2)\n",
            "Collecting starsessions<2.0,>=1.2.1 (from lightning<3.0.0,>=2.0.0->pytorch-forecasting)\n",
            "  Downloading starsessions-1.3.0-py3-none-any.whl (10 kB)\n",
            "Collecting torchmetrics<2.0,>=0.7.0 (from lightning<3.0.0,>=2.0.0->pytorch-forecasting)\n",
            "  Downloading torchmetrics-1.0.1-py3-none-any.whl (729 kB)\n",
            "\u001b[2K     \u001b[90m━━━━━━━━━━━━━━━━━━━━━━━━━━━━━━━━━━━━━━\u001b[0m \u001b[32m729.2/729.2 kB\u001b[0m \u001b[31m53.3 MB/s\u001b[0m eta \u001b[36m0:00:00\u001b[0m\n",
            "\u001b[?25hRequirement already satisfied: tqdm<6.0,>=4.57.0 in /usr/local/lib/python3.10/dist-packages (from lightning<3.0.0,>=2.0.0->pytorch-forecasting) (4.65.0)\n",
            "Requirement already satisfied: traitlets<7.0,>=5.3.0 in /usr/local/lib/python3.10/dist-packages (from lightning<3.0.0,>=2.0.0->pytorch-forecasting) (5.7.1)\n",
            "Requirement already satisfied: urllib3<4.0 in /usr/local/lib/python3.10/dist-packages (from lightning<3.0.0,>=2.0.0->pytorch-forecasting) (1.26.16)\n",
            "Collecting uvicorn<2.0 (from lightning<3.0.0,>=2.0.0->pytorch-forecasting)\n",
            "  Downloading uvicorn-0.23.1-py3-none-any.whl (59 kB)\n",
            "\u001b[2K     \u001b[90m━━━━━━━━━━━━━━━━━━━━━━━━━━━━━━━━━━━━━━━━\u001b[0m \u001b[32m59.5/59.5 kB\u001b[0m \u001b[31m7.9 MB/s\u001b[0m eta \u001b[36m0:00:00\u001b[0m\n",
            "\u001b[?25hRequirement already satisfied: websocket-client<3.0 in /usr/local/lib/python3.10/dist-packages (from lightning<3.0.0,>=2.0.0->pytorch-forecasting) (1.6.1)\n",
            "Collecting websockets<13.0 (from lightning<3.0.0,>=2.0.0->pytorch-forecasting)\n",
            "  Downloading websockets-11.0.3-cp310-cp310-manylinux_2_5_x86_64.manylinux1_x86_64.manylinux_2_17_x86_64.manylinux2014_x86_64.whl (129 kB)\n",
            "\u001b[2K     \u001b[90m━━━━━━━━━━━━━━━━━━━━━━━━━━━━━━━━━━━━━━\u001b[0m \u001b[32m129.9/129.9 kB\u001b[0m \u001b[31m17.7 MB/s\u001b[0m eta \u001b[36m0:00:00\u001b[0m\n",
            "\u001b[?25hCollecting pytorch-lightning (from lightning<3.0.0,>=2.0.0->pytorch-forecasting)\n",
            "  Downloading pytorch_lightning-2.0.5-py3-none-any.whl (722 kB)\n",
            "\u001b[2K     \u001b[90m━━━━━━━━━━━━━━━━━━━━━━━━━━━━━━━━━━━━━━\u001b[0m \u001b[32m722.4/722.4 kB\u001b[0m \u001b[31m65.5 MB/s\u001b[0m eta \u001b[36m0:00:00\u001b[0m\n",
            "\u001b[?25hCollecting alembic>=1.5.0 (from optuna<4.0.0,>=3.1.0->pytorch-forecasting)\n",
            "  Downloading alembic-1.11.1-py3-none-any.whl (224 kB)\n",
            "\u001b[2K     \u001b[90m━━━━━━━━━━━━━━━━━━━━━━━━━━━━━━━━━━━━━━\u001b[0m \u001b[32m224.5/224.5 kB\u001b[0m \u001b[31m27.7 MB/s\u001b[0m eta \u001b[36m0:00:00\u001b[0m\n",
            "\u001b[?25hCollecting cmaes>=0.9.1 (from optuna<4.0.0,>=3.1.0->pytorch-forecasting)\n",
            "  Downloading cmaes-0.10.0-py3-none-any.whl (29 kB)\n",
            "Collecting colorlog (from optuna<4.0.0,>=3.1.0->pytorch-forecasting)\n",
            "  Downloading colorlog-6.7.0-py2.py3-none-any.whl (11 kB)\n",
            "Requirement already satisfied: sqlalchemy>=1.3.0 in /usr/local/lib/python3.10/dist-packages (from optuna<4.0.0,>=3.1.0->pytorch-forecasting) (2.0.18)\n",
            "Requirement already satisfied: python-dateutil>=2.8.1 in /usr/local/lib/python3.10/dist-packages (from pandas<=3.0.0,>=1.3.0->pytorch-forecasting) (2.8.2)\n",
            "Requirement already satisfied: pytz>=2020.1 in /usr/local/lib/python3.10/dist-packages (from pandas<=3.0.0,>=1.3.0->pytorch-forecasting) (2022.7.1)\n",
            "Requirement already satisfied: joblib>=1.1.1 in /usr/local/lib/python3.10/dist-packages (from scikit-learn<2.0,>=1.2->pytorch-forecasting) (1.3.1)\n",
            "Requirement already satisfied: threadpoolctl>=2.0.0 in /usr/local/lib/python3.10/dist-packages (from scikit-learn<2.0,>=1.2->pytorch-forecasting) (3.1.0)\n",
            "Requirement already satisfied: filelock in /usr/local/lib/python3.10/dist-packages (from torch<3.0.0,>=2.0.0->pytorch-forecasting) (3.12.2)\n",
            "Requirement already satisfied: sympy in /usr/local/lib/python3.10/dist-packages (from torch<3.0.0,>=2.0.0->pytorch-forecasting) (1.11.1)\n",
            "Requirement already satisfied: networkx in /usr/local/lib/python3.10/dist-packages (from torch<3.0.0,>=2.0.0->pytorch-forecasting) (3.1)\n",
            "Requirement already satisfied: triton==2.0.0 in /usr/local/lib/python3.10/dist-packages (from torch<3.0.0,>=2.0.0->pytorch-forecasting) (2.0.0)\n",
            "Requirement already satisfied: cmake in /usr/local/lib/python3.10/dist-packages (from triton==2.0.0->torch<3.0.0,>=2.0.0->pytorch-forecasting) (3.25.2)\n",
            "Requirement already satisfied: lit in /usr/local/lib/python3.10/dist-packages (from triton==2.0.0->torch<3.0.0,>=2.0.0->pytorch-forecasting) (16.0.6)\n",
            "Requirement already satisfied: contourpy>=1.0.1 in /usr/local/lib/python3.10/dist-packages (from matplotlib->pytorch-forecasting) (1.1.0)\n",
            "Requirement already satisfied: cycler>=0.10 in /usr/local/lib/python3.10/dist-packages (from matplotlib->pytorch-forecasting) (0.11.0)\n",
            "Requirement already satisfied: fonttools>=4.22.0 in /usr/local/lib/python3.10/dist-packages (from matplotlib->pytorch-forecasting) (4.41.0)\n",
            "Requirement already satisfied: kiwisolver>=1.0.1 in /usr/local/lib/python3.10/dist-packages (from matplotlib->pytorch-forecasting) (1.4.4)\n",
            "Requirement already satisfied: pillow>=6.2.0 in /usr/local/lib/python3.10/dist-packages (from matplotlib->pytorch-forecasting) (8.4.0)\n",
            "Requirement already satisfied: pyparsing>=2.3.1 in /usr/local/lib/python3.10/dist-packages (from matplotlib->pytorch-forecasting) (3.1.0)\n",
            "Requirement already satisfied: patsy>=0.5.2 in /usr/local/lib/python3.10/dist-packages (from statsmodels->pytorch-forecasting) (0.5.3)\n",
            "Collecting Mako (from alembic>=1.5.0->optuna<4.0.0,>=3.1.0->pytorch-forecasting)\n",
            "  Downloading Mako-1.2.4-py3-none-any.whl (78 kB)\n",
            "\u001b[2K     \u001b[90m━━━━━━━━━━━━━━━━━━━━━━━━━━━━━━━━━━━━━━━━\u001b[0m \u001b[32m78.7/78.7 kB\u001b[0m \u001b[31m9.3 MB/s\u001b[0m eta \u001b[36m0:00:00\u001b[0m\n",
            "\u001b[?25hRequirement already satisfied: soupsieve>1.2 in /usr/local/lib/python3.10/dist-packages (from beautifulsoup4<6.0,>=4.8.0->lightning<3.0.0,>=2.0.0->pytorch-forecasting) (2.4.1)\n",
            "Collecting ordered-set<4.2.0,>=4.0.2 (from deepdiff<8.0,>=5.7.0->lightning<3.0.0,>=2.0.0->pytorch-forecasting)\n",
            "  Downloading ordered_set-4.1.0-py3-none-any.whl (7.6 kB)\n",
            "Requirement already satisfied: aiohttp!=4.0.0a0,!=4.0.0a1 in /usr/local/lib/python3.10/dist-packages (from fsspec<2025.0,>=2022.5.0->lightning<3.0.0,>=2.0.0->pytorch-forecasting) (3.8.4)\n",
            "Collecting blessed>=1.19.0 (from inquirer<5.0,>=2.10.0->lightning<3.0.0,>=2.0.0->pytorch-forecasting)\n",
            "  Downloading blessed-1.20.0-py2.py3-none-any.whl (58 kB)\n",
            "\u001b[2K     \u001b[90m━━━━━━━━━━━━━━━━━━━━━━━━━━━━━━━━━━━━━━━━\u001b[0m \u001b[32m58.4/58.4 kB\u001b[0m \u001b[31m8.2 MB/s\u001b[0m eta \u001b[36m0:00:00\u001b[0m\n",
            "\u001b[?25hCollecting python-editor>=1.0.4 (from inquirer<5.0,>=2.10.0->lightning<3.0.0,>=2.0.0->pytorch-forecasting)\n",
            "  Downloading python_editor-1.0.4-py3-none-any.whl (4.9 kB)\n",
            "Collecting readchar>=3.0.6 (from inquirer<5.0,>=2.10.0->lightning<3.0.0,>=2.0.0->pytorch-forecasting)\n",
            "  Downloading readchar-4.0.5-py3-none-any.whl (8.5 kB)\n",
            "Requirement already satisfied: MarkupSafe>=2.0 in /usr/local/lib/python3.10/dist-packages (from Jinja2<5.0->lightning<3.0.0,>=2.0.0->pytorch-forecasting) (2.1.3)\n",
            "Requirement already satisfied: pyjwt in /usr/lib/python3/dist-packages (from lightning-cloud>=0.5.37->lightning<3.0.0,>=2.0.0->pytorch-forecasting) (2.3.0)\n",
            "Requirement already satisfied: six in /usr/local/lib/python3.10/dist-packages (from lightning-cloud>=0.5.37->lightning<3.0.0,>=2.0.0->pytorch-forecasting) (1.16.0)\n",
            "Requirement already satisfied: certifi>=2017.4.17 in /usr/local/lib/python3.10/dist-packages (from requests<4.0->lightning<3.0.0,>=2.0.0->pytorch-forecasting) (2023.5.7)\n",
            "Requirement already satisfied: charset-normalizer~=2.0.0 in /usr/local/lib/python3.10/dist-packages (from requests<4.0->lightning<3.0.0,>=2.0.0->pytorch-forecasting) (2.0.12)\n",
            "Requirement already satisfied: idna<4,>=2.5 in /usr/local/lib/python3.10/dist-packages (from requests<4.0->lightning<3.0.0,>=2.0.0->pytorch-forecasting) (3.4)\n",
            "Requirement already satisfied: markdown-it-py>=2.2.0 in /usr/local/lib/python3.10/dist-packages (from rich<15.0,>=12.3.0->lightning<3.0.0,>=2.0.0->pytorch-forecasting) (3.0.0)\n",
            "Requirement already satisfied: pygments<3.0.0,>=2.13.0 in /usr/local/lib/python3.10/dist-packages (from rich<15.0,>=12.3.0->lightning<3.0.0,>=2.0.0->pytorch-forecasting) (2.14.0)\n",
            "Requirement already satisfied: greenlet!=0.4.17 in /usr/local/lib/python3.10/dist-packages (from sqlalchemy>=1.3.0->optuna<4.0.0,>=3.1.0->pytorch-forecasting) (2.0.2)\n",
            "Requirement already satisfied: anyio<5,>=3.4.0 in /usr/local/lib/python3.10/dist-packages (from starlette<0.28.0,>=0.27.0->fastapi>=0.80->pytorch-forecasting) (3.7.1)\n",
            "Requirement already satisfied: itsdangerous<3.0.0,>=2.0.1 in /usr/local/lib/python3.10/dist-packages (from starsessions<2.0,>=1.2.1->lightning<3.0.0,>=2.0.0->pytorch-forecasting) (2.1.2)\n",
            "Collecting h11>=0.8 (from uvicorn<2.0->lightning<3.0.0,>=2.0.0->pytorch-forecasting)\n",
            "  Downloading h11-0.14.0-py3-none-any.whl (58 kB)\n",
            "\u001b[2K     \u001b[90m━━━━━━━━━━━━━━━━━━━━━━━━━━━━━━━━━━━━━━━━\u001b[0m \u001b[32m58.3/58.3 kB\u001b[0m \u001b[31m7.9 MB/s\u001b[0m eta \u001b[36m0:00:00\u001b[0m\n",
            "\u001b[?25hRequirement already satisfied: mpmath>=0.19 in /usr/local/lib/python3.10/dist-packages (from sympy->torch<3.0.0,>=2.0.0->pytorch-forecasting) (1.3.0)\n",
            "Requirement already satisfied: attrs>=17.3.0 in /usr/local/lib/python3.10/dist-packages (from aiohttp!=4.0.0a0,!=4.0.0a1->fsspec<2025.0,>=2022.5.0->lightning<3.0.0,>=2.0.0->pytorch-forecasting) (23.1.0)\n",
            "Requirement already satisfied: multidict<7.0,>=4.5 in /usr/local/lib/python3.10/dist-packages (from aiohttp!=4.0.0a0,!=4.0.0a1->fsspec<2025.0,>=2022.5.0->lightning<3.0.0,>=2.0.0->pytorch-forecasting) (6.0.4)\n",
            "Requirement already satisfied: async-timeout<5.0,>=4.0.0a3 in /usr/local/lib/python3.10/dist-packages (from aiohttp!=4.0.0a0,!=4.0.0a1->fsspec<2025.0,>=2022.5.0->lightning<3.0.0,>=2.0.0->pytorch-forecasting) (4.0.2)\n",
            "Requirement already satisfied: yarl<2.0,>=1.0 in /usr/local/lib/python3.10/dist-packages (from aiohttp!=4.0.0a0,!=4.0.0a1->fsspec<2025.0,>=2022.5.0->lightning<3.0.0,>=2.0.0->pytorch-forecasting) (1.9.2)\n",
            "Requirement already satisfied: frozenlist>=1.1.1 in /usr/local/lib/python3.10/dist-packages (from aiohttp!=4.0.0a0,!=4.0.0a1->fsspec<2025.0,>=2022.5.0->lightning<3.0.0,>=2.0.0->pytorch-forecasting) (1.4.0)\n",
            "Requirement already satisfied: aiosignal>=1.1.2 in /usr/local/lib/python3.10/dist-packages (from aiohttp!=4.0.0a0,!=4.0.0a1->fsspec<2025.0,>=2022.5.0->lightning<3.0.0,>=2.0.0->pytorch-forecasting) (1.3.1)\n",
            "Requirement already satisfied: sniffio>=1.1 in /usr/local/lib/python3.10/dist-packages (from anyio<5,>=3.4.0->starlette<0.28.0,>=0.27.0->fastapi>=0.80->pytorch-forecasting) (1.3.0)\n",
            "Requirement already satisfied: exceptiongroup in /usr/local/lib/python3.10/dist-packages (from anyio<5,>=3.4.0->starlette<0.28.0,>=0.27.0->fastapi>=0.80->pytorch-forecasting) (1.1.2)\n",
            "Requirement already satisfied: wcwidth>=0.1.4 in /usr/local/lib/python3.10/dist-packages (from blessed>=1.19.0->inquirer<5.0,>=2.10.0->lightning<3.0.0,>=2.0.0->pytorch-forecasting) (0.2.6)\n",
            "Requirement already satisfied: mdurl~=0.1 in /usr/local/lib/python3.10/dist-packages (from markdown-it-py>=2.2.0->rich<15.0,>=12.3.0->lightning<3.0.0,>=2.0.0->pytorch-forecasting) (0.1.2)\n",
            "Requirement already satisfied: setuptools>=41.0 in /usr/local/lib/python3.10/dist-packages (from readchar>=3.0.6->inquirer<5.0,>=2.10.0->lightning<3.0.0,>=2.0.0->pytorch-forecasting) (67.7.2)\n",
            "Installing collected packages: python-editor, websockets, readchar, python-multipart, ordered-set, Mako, lightning-utilities, h11, colorlog, cmaes, blessed, backoff, uvicorn, starlette, inquirer, deepdiff, dateutils, croniter, arrow, alembic, starsessions, optuna, fastapi, lightning-cloud, torchmetrics, pytorch-lightning, pytorch-optimizer, lightning, pytorch-forecasting\n",
            "Successfully installed Mako-1.2.4 alembic-1.11.1 arrow-1.2.3 backoff-2.2.1 blessed-1.20.0 cmaes-0.10.0 colorlog-6.7.0 croniter-1.4.1 dateutils-0.6.12 deepdiff-6.3.1 fastapi-0.100.0 h11-0.14.0 inquirer-3.1.3 lightning-2.0.5 lightning-cloud-0.5.37 lightning-utilities-0.9.0 optuna-3.2.0 ordered-set-4.1.0 python-editor-1.0.4 python-multipart-0.0.6 pytorch-forecasting-1.0.0 pytorch-lightning-2.0.5 pytorch-optimizer-2.11.1 readchar-4.0.5 starlette-0.27.0 starsessions-1.3.0 torchmetrics-1.0.1 uvicorn-0.23.1 websockets-11.0.3\n"
          ]
        }
      ]
    },
    {
      "cell_type": "code",
      "execution_count": null,
      "id": "6bb67e75-741c-4be5-b398-ba431679a878",
      "metadata": {
        "id": "6bb67e75-741c-4be5-b398-ba431679a878"
      },
      "outputs": [],
      "source": [
        "import warnings\n",
        "warnings.filterwarnings('ignore')\n",
        "import random\n",
        "\n",
        "#utils\n",
        "from tqdm.notebook import tqdm\n",
        "\n",
        "import numpy as np\n",
        "import pandas as pd\n",
        "import matplotlib.pyplot as plt\n",
        "from matplotlib.gridspec import GridSpec\n",
        "\n",
        "from sklearn.metrics import r2_score\n",
        "from sklearn.preprocessing import LabelEncoder\n",
        "\n",
        "\n",
        "import torch\n",
        "from torchmetrics.functional import r2_score\n",
        "\n",
        "import lightning.pytorch as pl\n",
        "from lightning.pytorch.callbacks import EarlyStopping\n",
        "from lightning.pytorch.tuner import Tuner\n",
        "\n",
        "\n",
        "from pytorch_forecasting import Baseline, DeepAR, NBeats, TimeSeriesDataSet\n",
        "from pytorch_forecasting.data import NaNLabelEncoder\n",
        "from pytorch_forecasting.data.examples import generate_ar_data\n",
        "from pytorch_forecasting.metrics import RMSE, MAE, SMAPE, MultivariateNormalDistributionLoss\n",
        "from pytorch_lightning.loggers import TensorBoardLogger\n"
      ]
    },
    {
      "cell_type": "code",
      "execution_count": null,
      "id": "b6b7bcd1-6a31-4087-89d3-93ead5fc72d5",
      "metadata": {
        "id": "b6b7bcd1-6a31-4087-89d3-93ead5fc72d5"
      },
      "outputs": [],
      "source": [
        "import seaborn as sns\n",
        "sns.set(rc={'figure.figsize':(11.7,8.27)})\n"
      ]
    },
    {
      "cell_type": "code",
      "source": [
        "DEVICE = 'cuda' if torch.cuda.is_available() else 'cpu'"
      ],
      "metadata": {
        "id": "IDQpXiue42oU"
      },
      "id": "IDQpXiue42oU",
      "execution_count": null,
      "outputs": []
    },
    {
      "cell_type": "code",
      "source": [
        "def fix_random_seeds(seed=42):\n",
        "    # Set Python random seed\n",
        "    random.seed(seed)\n",
        "\n",
        "    # Set NumPy random seed\n",
        "    np.random.seed(seed)\n",
        "\n",
        "    # Set PyTorch random seed for CPU and CUDA devices\n",
        "    torch.manual_seed(seed)\n",
        "    torch.cuda.manual_seed(seed)\n",
        "    torch.backends.cudnn.deterministic = True\n",
        "    torch.backends.cudnn.benchmark = False\n",
        "\n",
        "fix_random_seeds()\n"
      ],
      "metadata": {
        "id": "3YtPmSDHeIBO"
      },
      "id": "3YtPmSDHeIBO",
      "execution_count": null,
      "outputs": []
    },
    {
      "cell_type": "markdown",
      "id": "6ff588c9-d733-4028-a073-8086cd50da55",
      "metadata": {
        "id": "6ff588c9-d733-4028-a073-8086cd50da55"
      },
      "source": [
        "### 1. Импорт данных, небольшая предобработка\n",
        "Для начала необходимо загрузить наш датасет и подготовить его к обучению модели. Также выполним небольшую фильтрацию данных, чтобы тратить меньше вычислительных ресурсов и быстрее выполнять эксперименты."
      ]
    },
    {
      "cell_type": "code",
      "execution_count": null,
      "id": "32f158e2-4ee2-41db-9359-75fae2a4852e",
      "metadata": {
        "colab": {
          "base_uri": "https://localhost:8080/"
        },
        "id": "32f158e2-4ee2-41db-9359-75fae2a4852e",
        "outputId": "c7095946-1242-4741-ffc6-a58d86a400fd"
      },
      "outputs": [
        {
          "output_type": "stream",
          "name": "stdout",
          "text": [
            "CPU times: user 3.62 s, sys: 407 ms, total: 4.03 s\n",
            "Wall time: 10.4 s\n"
          ]
        }
      ],
      "source": [
        "%%time\n",
        "df = pd.read_csv('/content/drive/MyDrive/diploma/full_data_sum.csv')\n",
        "\n",
        "# Предобработаем даты к удобному формату\n",
        "df['date'] = pd.to_datetime(df['date'])\n",
        "df['dt'] = pd.to_datetime(df.date) + df.hour.astype('timedelta64[h]')"
      ]
    },
    {
      "cell_type": "code",
      "execution_count": null,
      "id": "Fb3Muz6YUUOF",
      "metadata": {
        "colab": {
          "base_uri": "https://localhost:8080/"
        },
        "id": "Fb3Muz6YUUOF",
        "outputId": "be3a083b-20b9-4989-cbc1-85089b55af3d"
      },
      "outputs": [
        {
          "output_type": "execute_result",
          "data": {
            "text/plain": [
              "numpy.datetime64('2013-10-31T23:00:00.000000000')"
            ]
          },
          "metadata": {},
          "execution_count": 8
        }
      ],
      "source": [
        "dates = sorted(df.dt.unique())\n",
        "dates[0]"
      ]
    },
    {
      "cell_type": "code",
      "execution_count": null,
      "id": "v5pAtZ5yW5Cc",
      "metadata": {
        "id": "v5pAtZ5yW5Cc"
      },
      "outputs": [],
      "source": [
        "# Для создания датасета нужно перейти от значений времени к временным шагам\n",
        "dates_transformer = LabelEncoder()\n",
        "df['time_idx'] = dates_transformer.fit_transform(df.dt)\n",
        "df['time_idx'] += 1"
      ]
    },
    {
      "cell_type": "code",
      "execution_count": null,
      "id": "d8Y_BMVJZtRS",
      "metadata": {
        "id": "d8Y_BMVJZtRS"
      },
      "outputs": [],
      "source": [
        "# Категориальные переменные должны быть в строковом типе\n",
        "df['square_id'] = df['square_id'].astype(str)"
      ]
    },
    {
      "cell_type": "code",
      "execution_count": null,
      "id": "a3543b44-228d-4261-a683-a02bf2ae6aee",
      "metadata": {
        "id": "a3543b44-228d-4261-a683-a02bf2ae6aee"
      },
      "outputs": [],
      "source": [
        "# Разделим выборку на обучение, валидацию и тест\n",
        "\n",
        "dates = sorted(df.date.unique())\n",
        "train_dates = dates[:49]\n",
        "val_dates = dates[49:-1]\n",
        "test_dates = dates[-1:]\n",
        "\n",
        "train = df[df.date.isin(train_dates)]\n",
        "val = df[df.date.isin(val_dates)]\n",
        "test = df[df.date.isin(test_dates)]\n",
        "\n",
        "train_cutoff = train['time_idx'].max()\n",
        "validation_cutoff = test['time_idx'].max() - 25"
      ]
    },
    {
      "cell_type": "code",
      "execution_count": null,
      "id": "3Op5BYPhHMiz",
      "metadata": {
        "id": "3Op5BYPhHMiz"
      },
      "outputs": [],
      "source": [
        "# Для экономии ресурсов и времени выделим из датасета только те станции, которые слабо между собой коррелируют\n",
        "\n",
        "to_select = ['internet_6974', 'internet_6554', 'internet_8966', 'internet_7445', 'internet_9361', 'internet_5557', 'internet_8847', 'internet_6875', 'internet_3862', 'internet_3527', 'internet_6274', 'internet_7155', 'internet_8087', 'internet_6071', 'internet_5445', 'internet_6745', 'internet_9986', 'internet_4349', 'internet_4972', 'internet_3234', 'internet_8045', 'internet_8380', 'internet_9877', 'internet_4639', 'internet_7987', 'internet_4657', 'internet_9398', 'internet_6077', 'internet_4478', 'internet_1684', 'internet_3958', 'internet_3258', 'internet_3554', 'internet_6754', 'internet_8176', 'internet_5473', 'internet_6846', 'internet_8502', 'internet_4144', 'internet_2247', 'internet_4664', 'internet_3957', 'internet_4973', 'internet_6472', 'internet_8046', 'internet_8242', 'internet_2145', 'internet_9778', 'internet_7552', 'internet_9869', 'internet_8958', 'internet_7055', 'internet_6836', 'internet_5451', 'internet_4040', 'internet_3532', 'internet_8891', 'internet_8757', 'internet_7167', 'internet_9150', 'internet_6467', 'internet_9474', 'internet_7154', 'internet_4345', 'internet_8558', 'internet_3928', 'internet_5443', 'internet_9785', 'internet_7424', 'internet_6664', 'internet_6546', 'internet_4830', 'internet_2654', 'internet_5245', 'internet_4128', 'internet_5368', 'internet_5447', 'internet_48', 'internet_7161', 'internet_8152', 'internet_4446', 'internet_4341', 'internet_4667', 'internet_5646', 'internet_7271', 'internet_6766', 'internet_6250', 'internet_6662', 'internet_7173', 'internet_7769', 'internet_6050', 'internet_4061', 'internet_8273', 'internet_4367', 'internet_3755', 'internet_3334', 'internet_8561', 'internet_4578', 'internet_3462', 'internet_8311', 'internet_7085', 'internet_3966', 'internet_3551', 'internet_6473', 'internet_8464', 'internet_8283', 'internet_8247', 'internet_7672', 'internet_8148', 'internet_4464', 'internet_7786', 'internet_4563', 'internet_3945', 'internet_6252', 'internet_4874', 'internet_6466', 'internet_5047', 'internet_3929', 'internet_8673', 'internet_6465', 'internet_5649', 'internet_7562', 'internet_3674', 'internet_8534', 'internet_3558', 'internet_7722', 'internet_4550', 'internet_8056', 'internet_3353', 'internet_7389', 'internet_5344', 'internet_4047', 'internet_6470', 'internet_3967', 'internet_6053', 'internet_4279', 'internet_8332', 'internet_6854', 'internet_7226', 'internet_8854', 'internet_6852', 'internet_3233', 'internet_6054', 'internet_7144', 'internet_4658', 'internet_7980', 'internet_6270', 'internet_5848', 'internet_6585', 'internet_7306', 'internet_5457', 'internet_7468', 'internet_6645', 'internet_5145', 'internet_6055', 'internet_5357', 'internet_4343', 'internet_4029', 'internet_3118', 'internet_3553', 'internet_4058', 'internet_6052', 'internet_4129', 'internet_3836', 'internet_5851', 'internet_3868', 'internet_4362', 'internet_6953', 'internet_6451', 'internet_4443', 'internet_3360', 'internet_4444', 'internet_5544', 'internet_4351', 'internet_9483', 'internet_9684', 'internet_6775', 'internet_3659', 'internet_4669', 'internet_7822', 'internet_851', 'internet_4642', 'internet_7341', 'internet_8776', 'internet_4452', 'internet_5847', 'internet_4056', 'internet_2960', 'internet_5957', 'internet_3632', 'internet_4876', 'internet_4350', 'internet_6444', 'internet_3759', 'internet_6447', 'internet_7754', 'internet_7240', 'internet_8286', 'internet_6972', 'internet_8177', 'internet_3863', 'internet_8459', 'internet_4742', 'internet_5636', 'internet_3954', 'internet_8278', 'internet_6297', 'internet_6461', 'internet_6869', 'internet_3871', 'internet_7073', 'internet_9770', 'internet_6695', 'internet_7375', 'internet_8011', 'internet_6647', 'internet_7143', 'internet_7753', 'internet_7540', 'internet_6833', 'internet_8885', 'internet_8934', 'internet_4889', 'internet_1150', 'internet_4158', 'internet_4526', 'internet_4378', 'internet_9598', 'internet_8856', 'internet_5669', 'internet_4354', 'internet_3655', 'internet_6961', 'internet_4748', 'internet_1147', 'internet_8004', 'internet_3763', 'internet_8274', 'internet_1349', 'internet_8562', 'internet_6976', 'internet_9155', 'internet_8751', 'internet_5865', 'internet_7172', 'internet_6648', 'internet_4826', 'internet_3748', 'internet_8791', 'internet_4948', 'internet_4542', 'internet_3285', 'internet_4428', 'internet_4951', 'internet_5437', 'internet_7684', 'internet_7354', 'internet_6355', 'internet_5551', 'internet_4147', 'internet_7163', 'internet_7156', 'internet_8744', 'internet_4057', 'internet_7724', 'internet_3960', 'internet_6459', 'internet_4327', 'internet_9143', 'internet_4777', 'internet_5458', 'internet_3255', 'internet_1555', 'internet_4743', 'internet_5953', 'internet_4066', 'internet_7324', 'internet_4851', 'internet_6154', 'internet_4666', 'internet_6769', 'internet_5450', 'internet_7273', 'internet_7075', 'internet_4678', 'internet_8746', 'internet_5755', 'internet_4453', 'internet_8013', 'internet_7551', 'internet_3432', 'internet_5947', 'internet_7046', 'internet_4871', 'internet_3661', 'internet_3854', 'internet_3767', 'internet_8374', 'internet_5948', 'internet_7556', 'internet_4852', 'internet_3845', 'internet_6663', 'internet_4243', 'internet_8688', 'internet_9351', 'internet_6260', 'internet_6371', 'internet_4027', 'internet_4565', 'internet_5543', 'internet_3962', 'internet_3828', 'internet_4344', 'internet_5372', 'internet_7256', 'internet_5977', 'internet_8049', 'internet_6877', 'internet_4726', 'internet_6572', 'internet_8441', 'internet_5550', 'internet_4379', 'internet_6966', 'internet_8410', 'internet_7305', 'internet_4143', 'internet_8051', 'internet_8833', 'internet_5741', 'internet_3427', 'internet_8085', 'internet_7453', 'internet_7353', 'internet_8435', 'internet_6872', 'internet_5273', 'internet_6756', 'internet_4068', 'internet_3347', 'internet_7852', 'internet_5750', 'internet_6862', 'internet_6046', 'internet_5653', 'internet_4276', 'internet_5753', 'internet_7813', 'internet_9266', 'internet_5146', 'internet_8835', 'internet_8271', 'internet_3671', 'internet_6150', 'internet_8071', 'internet_6671', 'internet_3765', 'internet_3654', 'internet_6152', 'internet_7065', 'internet_8635', 'internet_6153', 'internet_3733', 'internet_7265', 'internet_7064', 'internet_5028', 'internet_6971', 'internet_3970', 'internet_4733', 'internet_6151', 'internet_4228', 'internet_6533', 'internet_8312', 'internet_8756', 'internet_3548', 'internet_7623', 'internet_6372', 'internet_4553', 'internet_3959', 'internet_3673', 'internet_4226', 'internet_7342', 'internet_6755', 'internet_6771', 'internet_6367', 'internet_8047', 'internet_6853']\n",
        "to_select = [i.split('_')[1] for i in to_select]"
      ]
    },
    {
      "cell_type": "code",
      "execution_count": null,
      "id": "ppY_O7PqaNRb",
      "metadata": {
        "id": "ppY_O7PqaNRb"
      },
      "outputs": [],
      "source": [
        "# Также уберем станции, для которых есть пропущенные значения\n",
        "\n",
        "broken_squares = train.groupby('square_id').time_idx.nunique()[train.groupby('square_id').time_idx.nunique() != 1153].values\n",
        "train = train[~train.square_id.isin(broken_squares)]"
      ]
    },
    {
      "cell_type": "code",
      "execution_count": null,
      "id": "xv3ll8E1GJvY",
      "metadata": {
        "id": "xv3ll8E1GJvY"
      },
      "outputs": [],
      "source": [
        "df = df[~df.square_id.isin(broken_squares)]\n",
        "df = df[df.square_id.isin(to_select)]\n",
        "\n",
        "train = train[~train.square_id.isin(broken_squares)]\n",
        "train = train[train.square_id.isin(to_select)]\n",
        "\n",
        "val = val[~val.square_id.isin(broken_squares)]\n",
        "val = val[val.square_id.isin(to_select)]\n",
        "\n",
        "test = test[~test.square_id.isin(broken_squares)]\n",
        "test = test[test.square_id.isin(to_select)]"
      ]
    },
    {
      "cell_type": "markdown",
      "id": "0QHZ4KHHZIZn",
      "metadata": {
        "id": "0QHZ4KHHZIZn"
      },
      "source": [
        "### 2. Создание TimeSeriesDataSet, DataLoader\n",
        "Здесь мы подготовленные данные подаем в класс TimeSeriesDataSet, чтобы далее сделать корректный Dataloader, на котором сможем обучать модель и делать прогнозы."
      ]
    },
    {
      "cell_type": "code",
      "execution_count": null,
      "id": "eMQl10TNZMQb",
      "metadata": {
        "id": "eMQl10TNZMQb"
      },
      "outputs": [],
      "source": [
        "# Инициализируем датасеты\n",
        "\n",
        "max_encoder_length = 60\n",
        "max_prediction_length = 24\n",
        "\n",
        "\n",
        "context_length = max_encoder_length\n",
        "prediction_length = max_prediction_length\n",
        "\n",
        "training = TimeSeriesDataSet(\n",
        "    train,\n",
        "    time_idx=\"time_idx\",\n",
        "    target=\"internet\",\n",
        "    categorical_encoders={\"square_id\": NaNLabelEncoder().fit(train.square_id)},\n",
        "    group_ids=[\"square_id\"],\n",
        "    static_categoricals=[\"square_id\"], # Deep AR позволяет учитывать статичные\n",
        "                                       # категориальные признаки, в нашем случае это id станции\n",
        "    time_varying_unknown_reals=[\"internet\"],\n",
        "    max_encoder_length=context_length,\n",
        "    max_prediction_length=prediction_length,\n",
        "    allow_missing_timesteps=False\n",
        ")\n",
        "\n",
        "validation = TimeSeriesDataSet.from_dataset(training,\n",
        "                                            df,\n",
        "                                            min_prediction_idx=train_cutoff + 1)\n"
      ]
    },
    {
      "cell_type": "code",
      "execution_count": null,
      "id": "jQbZcsbjg_F8",
      "metadata": {
        "colab": {
          "base_uri": "https://localhost:8080/"
        },
        "id": "jQbZcsbjg_F8",
        "outputId": "2d03dbce-f57f-40cc-b302-6f375305f1b0"
      },
      "outputs": [
        {
          "output_type": "stream",
          "name": "stdout",
          "text": [
            "\tencoder_cat = torch.Size([128, 60, 1])\n",
            "\tencoder_cont = torch.Size([128, 60, 1])\n",
            "\tencoder_target = torch.Size([128, 60])\n",
            "\tencoder_lengths = torch.Size([128])\n",
            "\tdecoder_cat = torch.Size([128, 24, 1])\n",
            "\tdecoder_cont = torch.Size([128, 24, 1])\n",
            "\tdecoder_target = torch.Size([128, 24])\n",
            "\tdecoder_lengths = torch.Size([128])\n",
            "\tdecoder_time_idx = torch.Size([128, 24])\n",
            "\tgroups = torch.Size([128, 1])\n",
            "\ttarget_scale = torch.Size([128, 2])\n"
          ]
        }
      ],
      "source": [
        "# Переводим все наши датасеты в даталоадеры\n",
        "\n",
        "batch_size = 128\n",
        "train_dataloader = training.to_dataloader(\n",
        "    train=True,\n",
        "    batch_size=batch_size,\n",
        "    num_workers=4,\n",
        "    drop_last=True,\n",
        "    batch_sampler=\"synchronized\"\n",
        ")\n",
        "val_dataloader = validation.to_dataloader(\n",
        "    train=False, batch_size=batch_size, num_workers=4, batch_sampler=\"synchronized\"\n",
        ")\n",
        "\n",
        "# Выведем содержимое батча из датасета\n",
        "x, y = next(iter(val_dataloader))\n",
        "for key, value in x.items():\n",
        "    print(f\"\\t{key} = {value.size()}\")"
      ]
    },
    {
      "cell_type": "code",
      "execution_count": null,
      "id": "PoYHEqiyFoXc",
      "metadata": {
        "id": "PoYHEqiyFoXc",
        "colab": {
          "base_uri": "https://localhost:8080/"
        },
        "outputId": "761b2270-a219-44b6-c345-0a21142cd6bd"
      },
      "outputs": [
        {
          "output_type": "stream",
          "name": "stdout",
          "text": [
            "\tencoder_cat = torch.Size([123, 60, 1])\n",
            "\tencoder_cont = torch.Size([123, 60, 1])\n",
            "\tencoder_target = torch.Size([123, 60])\n",
            "\tencoder_lengths = torch.Size([123])\n",
            "\tdecoder_cat = torch.Size([123, 24, 1])\n",
            "\tdecoder_cont = torch.Size([123, 24, 1])\n",
            "\tdecoder_target = torch.Size([123, 24])\n",
            "\tdecoder_lengths = torch.Size([123])\n",
            "\tdecoder_time_idx = torch.Size([123, 24])\n",
            "\tgroups = torch.Size([123, 1])\n",
            "\ttarget_scale = torch.Size([123, 2])\n",
            "CPU times: user 552 ms, sys: 78.6 ms, total: 631 ms\n",
            "Wall time: 2.61 s\n"
          ]
        }
      ],
      "source": [
        "%%time\n",
        "\n",
        "# Сделаем еще один набор данных для быстрого обучения и валидации, куда возьмем лишь часть временных рядов\n",
        "# При желании можно воспользоваться и полными датасетами\n",
        "\n",
        "random_bs = np.random.choice(df.square_id.unique(), 150)\n",
        "\n",
        "\n",
        "train_sample = TimeSeriesDataSet.from_dataset(training, train[train.square_id.isin(random_bs)])\n",
        "validation_sample = TimeSeriesDataSet.from_dataset(training, val[val.square_id.isin(random_bs)], min_prediction_idx=train_cutoff + 1)\n",
        "\n",
        "\n",
        "train_subset_loader = train_sample.to_dataloader(\n",
        "    train=True,\n",
        "    batch_size=batch_size,\n",
        "    num_workers=4,\n",
        "    drop_last=True,\n",
        "    batch_sampler=\"synchronized\")\n",
        "\n",
        "val_subset_loader = validation_sample.to_dataloader(\n",
        "    train=False, batch_size=batch_size, num_workers=4, batch_sampler=\"synchronized\"\n",
        ")\n",
        "\n",
        "# Проверим, что данные внутри такие же как и в полной валидации\n",
        "x, y = next(iter(val_subset_loader))\n",
        "for key, value in x.items():\n",
        "    print(f\"\\t{key} = {value.size()}\")"
      ]
    },
    {
      "cell_type": "markdown",
      "id": "353ad5cd-e018-40b3-8bef-de234a759760",
      "metadata": {
        "id": "353ad5cd-e018-40b3-8bef-de234a759760"
      },
      "source": [
        "### 3. Расчет бейзлайна\n",
        "Для оценки качества нашей сети нам нужно ее с чем-то сравнить, воспользуемся бейзлайном в библиотеке torch forecasting.\n",
        "В случае torch forecasting, Baseline - это модель, которая в качестве предсказание использует последнее известное значение временного ряда"
      ]
    },
    {
      "cell_type": "code",
      "execution_count": null,
      "id": "Zs011tSxN0SQ",
      "metadata": {
        "colab": {
          "base_uri": "https://localhost:8080/"
        },
        "id": "Zs011tSxN0SQ",
        "outputId": "19db475a-5fab-4524-9f76-3fea969d8977"
      },
      "outputs": [
        {
          "output_type": "stream",
          "name": "stdout",
          "text": [
            "CPU times: user 814 ms, sys: 321 ms, total: 1.14 s\n",
            "Wall time: 17.1 s\n"
          ]
        }
      ],
      "source": [
        "%%time\n",
        "# Запишем ответы из валидации в один тензор, чтобы быстрее считать метрики\n",
        "val_answers = torch.cat([y[0] for x, y in iter(val_subset_loader)]).to(DEVICE)"
      ]
    },
    {
      "cell_type": "code",
      "execution_count": null,
      "id": "Iom1H7QmwfbK",
      "metadata": {
        "colab": {
          "base_uri": "https://localhost:8080/"
        },
        "id": "Iom1H7QmwfbK",
        "outputId": "e941b8a1-a63e-4dea-bf70-7ae6c6960201"
      },
      "outputs": [
        {
          "output_type": "stream",
          "name": "stderr",
          "text": [
            "WARNING: Missing logger folder: /content/lightning_logs\n",
            "WARNING:lightning.pytorch.loggers.tensorboard:Missing logger folder: /content/lightning_logs\n"
          ]
        },
        {
          "output_type": "stream",
          "name": "stdout",
          "text": [
            "CPU times: user 3.61 s, sys: 566 ms, total: 4.17 s\n",
            "Wall time: 19.6 s\n"
          ]
        }
      ],
      "source": [
        "%%time\n",
        "# Запустим бейзлайн на валидационной выборке, а качество такого прогноза посмотрим чуть позже\n",
        "\n",
        "baseline_predictions = Baseline().predict(val_subset_loader,\n",
        "                                          trainer_kwargs=dict(accelerator=DEVICE),\n",
        "                                          return_y=False)"
      ]
    },
    {
      "cell_type": "markdown",
      "id": "LOk83ekSG0Ev",
      "metadata": {
        "id": "LOk83ekSG0Ev"
      },
      "source": [
        "### 4. Обучение сети\n",
        "Здесь с помощью фреймворка lightning мы подберем оптимальный learning_rate, укажем параметры и запустим обучение сети."
      ]
    },
    {
      "cell_type": "code",
      "execution_count": null,
      "id": "JOSUPQhohLgt",
      "metadata": {
        "colab": {
          "base_uri": "https://localhost:8080/"
        },
        "id": "JOSUPQhohLgt",
        "outputId": "bc842bfc-8ed9-455e-9937-627c417d0ecd"
      },
      "outputs": [
        {
          "output_type": "stream",
          "name": "stderr",
          "text": [
            "INFO: Global seed set to 42\n",
            "INFO:lightning.fabric.utilities.seed:Global seed set to 42\n",
            "INFO:pytorch_lightning.utilities.rank_zero:GPU available: False, used: False\n",
            "INFO:pytorch_lightning.utilities.rank_zero:TPU available: False, using: 0 TPU cores\n",
            "INFO:pytorch_lightning.utilities.rank_zero:IPU available: False, using: 0 IPUs\n",
            "INFO:pytorch_lightning.utilities.rank_zero:HPU available: False, using: 0 HPUs\n"
          ]
        }
      ],
      "source": [
        "pl.seed_everything(42)\n",
        "\n",
        "trainer = pl.Trainer(accelerator=DEVICE, gradient_clip_val=1e-1)\n",
        "net = DeepAR.from_dataset(\n",
        "    training,\n",
        "    learning_rate=3e-2,\n",
        "    hidden_size=60,\n",
        "    rnn_layers=5,\n",
        "    loss=MultivariateNormalDistributionLoss(rank=30),\n",
        "    optimizer=\"Adam\",\n",
        ")"
      ]
    },
    {
      "cell_type": "code",
      "execution_count": null,
      "id": "FIymM-NozC72",
      "metadata": {
        "colab": {
          "base_uri": "https://localhost:8080/",
          "height": 883,
          "referenced_widgets": [
            "53ed36d515054a2cb69d717341138da7",
            "e87a6413b93e4adc817d3b3775608f58",
            "e345f4bff532479eb52a204191c55043",
            "928de656c0ab4ac0bfedf6dc1e0c3ca7",
            "214514f4f73e4714b219a2a2463857c8",
            "dc45cdf6c627404ebd29c4562a25a4bf",
            "caaf64935d5d417abc620f3d06901082",
            "841a63783b014bcd83b907c971da7689",
            "9d174b45fd09412b9d650fa745d9215c",
            "ab0108ae7ef24bbe88d82c02196337c5",
            "af36ce1293eb48718feea0b32cdde3bd"
          ]
        },
        "id": "FIymM-NozC72",
        "outputId": "ae6f8dc8-8147-4b79-ee77-6e791f3979f5"
      },
      "outputs": [
        {
          "output_type": "display_data",
          "data": {
            "text/plain": [
              "Finding best initial lr:   0%|          | 0/100 [00:00<?, ?it/s]"
            ],
            "application/vnd.jupyter.widget-view+json": {
              "version_major": 2,
              "version_minor": 0,
              "model_id": "53ed36d515054a2cb69d717341138da7"
            }
          },
          "metadata": {}
        },
        {
          "output_type": "stream",
          "name": "stderr",
          "text": [
            "INFO:pytorch_lightning.utilities.rank_zero:`Trainer.fit` stopped: `max_steps=100` reached.\n",
            "INFO: Learning rate set to 0.015848931924611124\n",
            "INFO:lightning.pytorch.tuner.lr_finder:Learning rate set to 0.015848931924611124\n",
            "INFO:pytorch_lightning.utilities.rank_zero:Restoring states from the checkpoint path at /content/.lr_find_6fd4b068-b245-4b13-8ed0-b566bf9ccac6.ckpt\n",
            "INFO:pytorch_lightning.utilities.rank_zero:Restored all states from the checkpoint at /content/.lr_find_6fd4b068-b245-4b13-8ed0-b566bf9ccac6.ckpt\n"
          ]
        },
        {
          "output_type": "stream",
          "name": "stdout",
          "text": [
            "suggested learning rate: 0.015848931924611124\n"
          ]
        },
        {
          "output_type": "display_data",
          "data": {
            "text/plain": [
              "<Figure size 1170x827 with 1 Axes>"
            ],
            "image/png": "[encoded data removed]"
          },
          "metadata": {}
        }
      ],
      "source": [
        "res = Tuner(trainer).lr_find(\n",
        "    net,\n",
        "    train_dataloaders=train_subset_loader,\n",
        "    val_dataloaders=val_subset_loader,\n",
        "    min_lr=1e-6,\n",
        "    max_lr=1e0,\n",
        "    early_stop_threshold=10,\n",
        ")\n",
        "print(f\"suggested learning rate: {res.suggestion()}\")\n",
        "fig = res.plot(show=True, suggest=True)\n",
        "fig.show()\n",
        "net.hparams.learning_rate = res.suggestion()"
      ]
    },
    {
      "cell_type": "code",
      "source": [
        "%%time\n",
        "logger = TensorBoardLogger('DeepAR_Fit', name='result_deepAR_model')\n",
        "\n",
        "early_stop_callback = EarlyStopping(monitor=\"val_loss\",\n",
        "                                    min_delta=1e-4,\n",
        "                                    patience=10,\n",
        "                                    verbose=False,\n",
        "                                    mode=\"min\")\n",
        "trainer = pl.Trainer(\n",
        "    max_epochs=3,\n",
        "    accelerator=DEVICE,\n",
        "    enable_model_summary=True,\n",
        "    gradient_clip_val=0.1,\n",
        "    callbacks=[early_stop_callback],\n",
        "    # limit_train_batches=200,\n",
        "    limit_val_batches=200,\n",
        "    enable_checkpointing=True,\n",
        "    logger=logger\n",
        ")\n",
        "\n",
        "trainer.fit(\n",
        "    net,\n",
        "    train_dataloaders=train_subset_loader,\n",
        "    val_dataloaders=val_subset_loader\n",
        ")"
      ],
      "metadata": {
        "id": "yfCotMB_u4cg"
      },
      "id": "yfCotMB_u4cg",
      "execution_count": null,
      "outputs": []
    },
    {
      "cell_type": "code",
      "source": [
        "best_model_path = trainer.checkpoint_callback.best_model_path\n",
        "best_model = DeepAR.load_from_checkpoint(best_model_path)"
      ],
      "metadata": {
        "id": "CEF8tNFfvM9v"
      },
      "id": "CEF8tNFfvM9v",
      "execution_count": null,
      "outputs": []
    },
    {
      "cell_type": "markdown",
      "source": [
        "### 5. Валидация\n",
        "Сеть обучена, пришло время оценить качество нашей модели."
      ],
      "metadata": {
        "id": "XPfgqRjq8UDQ"
      },
      "id": "XPfgqRjq8UDQ"
    },
    {
      "cell_type": "code",
      "source": [
        "def evaluate(predictions, answers):\n",
        "    rmse = RMSE()(predictions, answers).item()\n",
        "    smape = SMAPE()(predictions, answers).item()\n",
        "    mae = MAE()(predictions, answers).item()\n",
        "    r2 = r2_score(predictions, answers).item()\n",
        "\n",
        "    print(f\"Evaluation Metrics:\")\n",
        "    print(f\"RMSE: {rmse:.3f}\")\n",
        "    print(f\"SMAPE: {smape:.3f}\")\n",
        "    print(f\"MAE: {mae:.3f}\")\n",
        "    print(f\"R-squared: {r2:.3f}\")"
      ],
      "metadata": {
        "id": "_ER2Et-DtAXy"
      },
      "id": "_ER2Et-DtAXy",
      "execution_count": null,
      "outputs": []
    },
    {
      "cell_type": "code",
      "source": [
        "%%time\n",
        "predictions = best_model.predict(val_subset_loader,\n",
        "                                 trainer_kwargs=dict(accelerator=DEVICE), )\n"
      ],
      "metadata": {
        "id": "hlGJY18hyaE6"
      },
      "id": "hlGJY18hyaE6",
      "execution_count": null,
      "outputs": []
    },
    {
      "cell_type": "code",
      "source": [
        "evaluate(predictions, val_answers)"
      ],
      "metadata": {
        "id": "CCtYhwftnB4U"
      },
      "id": "CCtYhwftnB4U",
      "execution_count": null,
      "outputs": []
    },
    {
      "cell_type": "code",
      "source": [
        "evaluate(baseline_predictions, val_answers)"
      ],
      "metadata": {
        "colab": {
          "base_uri": "https://localhost:8080/"
        },
        "id": "Wza-Jc41nDio",
        "outputId": "b833b428-7025-4b32-dc34-ce10b8206c7c"
      },
      "id": "Wza-Jc41nDio",
      "execution_count": null,
      "outputs": [
        {
          "output_type": "stream",
          "name": "stdout",
          "text": [
            "Evaluation Metrics:\n",
            "RMSE: 350.233\n",
            "SMAPE: 0.339\n",
            "MAE: 229.037\n",
            "R-squared: 0.497\n"
          ]
        }
      ]
    },
    {
      "cell_type": "code",
      "source": [
        "%reload_ext tensorboard\n",
        "%tensorboard --logdir /content/Simpler_model"
      ],
      "metadata": {
        "id": "fFsFYg7W9-i4"
      },
      "id": "fFsFYg7W9-i4",
      "execution_count": null,
      "outputs": []
    },
    {
      "cell_type": "markdown",
      "source": [
        "### 6. Инференс на тестовой выборке"
      ],
      "metadata": {
        "id": "LdpqtpXY8YrE"
      },
      "id": "LdpqtpXY8YrE"
    },
    {
      "cell_type": "markdown",
      "source": [
        "Для инференса создадим даталоадер, куда попадут только части временных рядов, необходимые для финального прогноза.\n",
        "\n",
        "\n",
        "В случае реального прогнозирования, когда у нас нет заранее известных ответов, мы могли бы заполнить датасет на N шагов вперед нулями, и также выполнить предикт"
      ],
      "metadata": {
        "id": "vfN0oD_mksEW"
      },
      "id": "vfN0oD_mksEW"
    },
    {
      "cell_type": "code",
      "source": [
        "test_dataset = TimeSeriesDataSet.from_dataset(training,\n",
        "                                      df,\n",
        "                                      min_prediction_idx=validation_cutoff + 1,\n",
        "                                      predict_mode=True)\n",
        "\n",
        "test_loader = test_dataset.to_dataloader(\n",
        "    train=False, batch_size=batch_size, num_workers=4, batch_sampler=\"synchronized\"\n",
        ")\n"
      ],
      "metadata": {
        "id": "4CRL-CZMzy44"
      },
      "id": "4CRL-CZMzy44",
      "execution_count": null,
      "outputs": []
    },
    {
      "cell_type": "code",
      "source": [
        "test_answers = torch.cat([y[0] for x, y in iter(test_loader)]).to('cpu')"
      ],
      "metadata": {
        "id": "Twnw_1VY8dDz"
      },
      "id": "Twnw_1VY8dDz",
      "execution_count": null,
      "outputs": []
    },
    {
      "cell_type": "code",
      "source": [
        "raw_predictions = net.predict(test_loader, mode=\"prediction\", return_x=True)\n",
        "\n",
        "test_preds = raw_predictions[0].to('cpu')\n",
        "x = raw_predictions[1]['encoder_target'].to('cpu')"
      ],
      "metadata": {
        "id": "T5GC2Grsh5pm"
      },
      "id": "T5GC2Grsh5pm",
      "execution_count": null,
      "outputs": []
    },
    {
      "cell_type": "code",
      "source": [
        "#Зафиксируем финальные метрики\n",
        "evaluate(test_preds, test_answers)"
      ],
      "metadata": {
        "id": "rQ72vIDug8Cm"
      },
      "id": "rQ72vIDug8Cm",
      "execution_count": null,
      "outputs": []
    },
    {
      "cell_type": "code",
      "source": [
        "# Можно визуализировать отдельные прогнозы\n",
        "base_station_num = 60\n",
        "plt.plot(np.concatenate([x[base_station_num], test_preds[base_station_num]]), color='red')\n",
        "plt.plot(np.concatenate([x[base_station_num], test_answers[base_station_num]]), color='blue')\n",
        "plt.legend()"
      ],
      "metadata": {
        "id": "Z0_wMr5y81wz"
      },
      "id": "Z0_wMr5y81wz",
      "execution_count": null,
      "outputs": []
    },
    {
      "cell_type": "markdown",
      "source": [
        "Для модели DeepAR можно выполнить и вероятностный прогноз, и получить квантили распределения прогнозируемых значений"
      ],
      "metadata": {
        "id": "1Dek4x9umsT2"
      },
      "id": "1Dek4x9umsT2"
    },
    {
      "cell_type": "code",
      "source": [
        "raw_predictions = net.predict(test_loader, mode=\"quantiles\", return_x=True)\n",
        "test_preds = raw_predictions[0].to('cpu')\n",
        "x = raw_predictions[1]['encoder_target'].to('cpu')"
      ],
      "metadata": {
        "id": "1NhnJjGdvT-2"
      },
      "id": "1NhnJjGdvT-2",
      "execution_count": null,
      "outputs": []
    },
    {
      "cell_type": "markdown",
      "source": [
        "Теперь мы прогнозируем по 7 значений на каждый временной шаг, давайте его тоже визуализируем!"
      ],
      "metadata": {
        "id": "dewNko7Am1gs"
      },
      "id": "dewNko7Am1gs"
    },
    {
      "cell_type": "code",
      "source": [
        "test_preds.size()"
      ],
      "metadata": {
        "id": "QvBVfN-rmxaJ"
      },
      "id": "QvBVfN-rmxaJ",
      "execution_count": null,
      "outputs": []
    },
    {
      "cell_type": "code",
      "source": [
        "base_station_num = 60\n",
        "for i in range(7):\n",
        "  plt.plot(np.concatenate([x[base_station_num], test_preds[base_station_num][:, i]]), color='red')\n",
        "plt.plot(np.concatenate([x[base_station_num], test_answers[base_station_num]]), color='blue')\n",
        "plt.legend()"
      ],
      "metadata": {
        "id": "dnRg1iFxm6xt"
      },
      "id": "dnRg1iFxm6xt",
      "execution_count": null,
      "outputs": []
    },
    {
      "cell_type": "markdown",
      "source": [
        "Есть и встроенный вариант визуализации вероятностного прогноза"
      ],
      "metadata": {
        "id": "j7W_9dE9nm4G"
      },
      "id": "j7W_9dE9nm4G"
    },
    {
      "cell_type": "code",
      "source": [
        "raw_predictions = best_model.predict(test_loader,\n",
        "                              trainer_kwargs=dict(accelerator=\"cpu\"),\n",
        "                              mode=\"raw\", return_x=True)\n",
        "\n",
        "test_preds = raw_predictions[0]['prediction']\n",
        "x = raw_predictions[1]['encoder_target']"
      ],
      "metadata": {
        "id": "plTU6ErIoARJ"
      },
      "id": "plTU6ErIoARJ",
      "execution_count": null,
      "outputs": []
    },
    {
      "cell_type": "code",
      "source": [
        "series = test.x_to_index(raw_predictions.x)[\"square_id\"]\n",
        "for idx in range(20,30):\n",
        "    best_model.plot_prediction(raw_predictions.x, raw_predictions.output, idx=idx, add_loss_to_title=True)\n",
        "    plt.suptitle(f\"Series: {series.iloc[idx]}\")"
      ],
      "metadata": {
        "id": "kLvUECpOnqy6"
      },
      "id": "kLvUECpOnqy6",
      "execution_count": null,
      "outputs": []
    },
    {
      "cell_type": "markdown",
      "id": "37143b4d-bbfb-4b0d-bf57-fe79820d9a3f",
      "metadata": {
        "id": "37143b4d-bbfb-4b0d-bf57-fe79820d9a3f"
      },
      "source": [
        "### 7. Постпроцессинг данных\n",
        "\n",
        "Теперь от тензоров нам нужно вернуться обратно к базовым станциям, то есть, перевести прогнозы модели к формату, в котором мы получили данные."
      ]
    },
    {
      "cell_type": "code",
      "source": [
        "raw_predictions = net.predict(test_loader, mode=\"prediction\", return_x=True)\n",
        "test_preds = raw_predictions[0].to('cpu')\n",
        "x = raw_predictions[1]"
      ],
      "metadata": {
        "id": "hsUd2IHKrBPa"
      },
      "id": "hsUd2IHKrBPa",
      "execution_count": null,
      "outputs": []
    },
    {
      "cell_type": "code",
      "execution_count": null,
      "id": "3e439f1e-0562-4697-8afc-1d68ac54026a",
      "metadata": {
        "id": "3e439f1e-0562-4697-8afc-1d68ac54026a"
      },
      "outputs": [],
      "source": [
        "encoder = test_dataset.categorical_encoders['square_id']\n",
        "ids = encoder.inverse_transform(x['decoder_cat'].to('cpu'))\n",
        "time_steps = list(range(1, test_dataset.max_prediction_length+1))\n",
        "\n",
        "result = pd.DataFrame(columns=['square_id', 'internet', 'time_idx'])\n",
        "for base in tqdm(range(test.square_id.nunique())):\n",
        "    base_id = ids[base]\n",
        "    forecast = pd.DataFrame({'internet': test_preds[base].numpy().tolist(),\n",
        "                              'square_id': [i[0] for i in base_id],\n",
        "                              'time_idx': time_steps})\n",
        "    result = pd.concat([result, forecast], axis=0)"
      ]
    },
    {
      "cell_type": "code",
      "source": [
        "result"
      ],
      "metadata": {
        "id": "nHs0Sg1Nrmcx"
      },
      "id": "nHs0Sg1Nrmcx",
      "execution_count": null,
      "outputs": []
    }
  ],
  "metadata": {
    "colab": {
      "gpuType": "T4",
      "provenance": []
    },
    "kernelspec": {
      "display_name": "Python 3",
      "name": "python3"
    },
    "language_info": {
      "codemirror_mode": {
        "name": "ipython",
        "version": 3
      },
      "file_extension": ".py",
      "mimetype": "text/x-python",
      "name": "python",
      "nbconvert_exporter": "python",
      "pygments_lexer": "ipython3",
      "version": "3.9.10"
    },
    "widgets": {
      "application/vnd.jupyter.widget-state+json": {
        "53ed36d515054a2cb69d717341138da7": {
          "model_module": "@jupyter-widgets/controls",
          "model_name": "HBoxModel",
          "model_module_version": "1.5.0",
          "state": {
            "_dom_classes": [],
            "_model_module": "@jupyter-widgets/controls",
            "_model_module_version": "1.5.0",
            "_model_name": "HBoxModel",
            "_view_count": null,
            "_view_module": "@jupyter-widgets/controls",
            "_view_module_version": "1.5.0",
            "_view_name": "HBoxView",
            "box_style": "",
            "children": [
              "IPY_MODEL_e87a6413b93e4adc817d3b3775608f58",
              "IPY_MODEL_e345f4bff532479eb52a204191c55043",
              "IPY_MODEL_928de656c0ab4ac0bfedf6dc1e0c3ca7"
            ],
            "layout": "IPY_MODEL_214514f4f73e4714b219a2a2463857c8"
          }
        },
        "e87a6413b93e4adc817d3b3775608f58": {
          "model_module": "@jupyter-widgets/controls",
          "model_name": "HTMLModel",
          "model_module_version": "1.5.0",
          "state": {
            "_dom_classes": [],
            "_model_module": "@jupyter-widgets/controls",
            "_model_module_version": "1.5.0",
            "_model_name": "HTMLModel",
            "_view_count": null,
            "_view_module": "@jupyter-widgets/controls",
            "_view_module_version": "1.5.0",
            "_view_name": "HTMLView",
            "description": "",
            "description_tooltip": null,
            "layout": "IPY_MODEL_dc45cdf6c627404ebd29c4562a25a4bf",
            "placeholder": "​",
            "style": "IPY_MODEL_caaf64935d5d417abc620f3d06901082",
            "value": "Finding best initial lr: 100%"
          }
        },
        "e345f4bff532479eb52a204191c55043": {
          "model_module": "@jupyter-widgets/controls",
          "model_name": "FloatProgressModel",
          "model_module_version": "1.5.0",
          "state": {
            "_dom_classes": [],
            "_model_module": "@jupyter-widgets/controls",
            "_model_module_version": "1.5.0",
            "_model_name": "FloatProgressModel",
            "_view_count": null,
            "_view_module": "@jupyter-widgets/controls",
            "_view_module_version": "1.5.0",
            "_view_name": "ProgressView",
            "bar_style": "success",
            "description": "",
            "description_tooltip": null,
            "layout": "IPY_MODEL_841a63783b014bcd83b907c971da7689",
            "max": 100,
            "min": 0,
            "orientation": "horizontal",
            "style": "IPY_MODEL_9d174b45fd09412b9d650fa745d9215c",
            "value": 100
          }
        },
        "928de656c0ab4ac0bfedf6dc1e0c3ca7": {
          "model_module": "@jupyter-widgets/controls",
          "model_name": "HTMLModel",
          "model_module_version": "1.5.0",
          "state": {
            "_dom_classes": [],
            "_model_module": "@jupyter-widgets/controls",
            "_model_module_version": "1.5.0",
            "_model_name": "HTMLModel",
            "_view_count": null,
            "_view_module": "@jupyter-widgets/controls",
            "_view_module_version": "1.5.0",
            "_view_name": "HTMLView",
            "description": "",
            "description_tooltip": null,
            "layout": "IPY_MODEL_ab0108ae7ef24bbe88d82c02196337c5",
            "placeholder": "​",
            "style": "IPY_MODEL_af36ce1293eb48718feea0b32cdde3bd",
            "value": " 100/100 [01:15&lt;00:00,  1.32it/s]"
          }
        },
        "214514f4f73e4714b219a2a2463857c8": {
          "model_module": "@jupyter-widgets/base",
          "model_name": "LayoutModel",
          "model_module_version": "1.2.0",
          "state": {
            "_model_module": "@jupyter-widgets/base",
            "_model_module_version": "1.2.0",
            "_model_name": "LayoutModel",
            "_view_count": null,
            "_view_module": "@jupyter-widgets/base",
            "_view_module_version": "1.2.0",
            "_view_name": "LayoutView",
            "align_content": null,
            "align_items": null,
            "align_self": null,
            "border": null,
            "bottom": null,
            "display": null,
            "flex": null,
            "flex_flow": null,
            "grid_area": null,
            "grid_auto_columns": null,
            "grid_auto_flow": null,
            "grid_auto_rows": null,
            "grid_column": null,
            "grid_gap": null,
            "grid_row": null,
            "grid_template_areas": null,
            "grid_template_columns": null,
            "grid_template_rows": null,
            "height": null,
            "justify_content": null,
            "justify_items": null,
            "left": null,
            "margin": null,
            "max_height": null,
            "max_width": null,
            "min_height": null,
            "min_width": null,
            "object_fit": null,
            "object_position": null,
            "order": null,
            "overflow": null,
            "overflow_x": null,
            "overflow_y": null,
            "padding": null,
            "right": null,
            "top": null,
            "visibility": null,
            "width": null
          }
        },
        "dc45cdf6c627404ebd29c4562a25a4bf": {
          "model_module": "@jupyter-widgets/base",
          "model_name": "LayoutModel",
          "model_module_version": "1.2.0",
          "state": {
            "_model_module": "@jupyter-widgets/base",
            "_model_module_version": "1.2.0",
            "_model_name": "LayoutModel",
            "_view_count": null,
            "_view_module": "@jupyter-widgets/base",
            "_view_module_version": "1.2.0",
            "_view_name": "LayoutView",
            "align_content": null,
            "align_items": null,
            "align_self": null,
            "border": null,
            "bottom": null,
            "display": null,
            "flex": null,
            "flex_flow": null,
            "grid_area": null,
            "grid_auto_columns": null,
            "grid_auto_flow": null,
            "grid_auto_rows": null,
            "grid_column": null,
            "grid_gap": null,
            "grid_row": null,
            "grid_template_areas": null,
            "grid_template_columns": null,
            "grid_template_rows": null,
            "height": null,
            "justify_content": null,
            "justify_items": null,
            "left": null,
            "margin": null,
            "max_height": null,
            "max_width": null,
            "min_height": null,
            "min_width": null,
            "object_fit": null,
            "object_position": null,
            "order": null,
            "overflow": null,
            "overflow_x": null,
            "overflow_y": null,
            "padding": null,
            "right": null,
            "top": null,
            "visibility": null,
            "width": null
          }
        },
        "caaf64935d5d417abc620f3d06901082": {
          "model_module": "@jupyter-widgets/controls",
          "model_name": "DescriptionStyleModel",
          "model_module_version": "1.5.0",
          "state": {
            "_model_module": "@jupyter-widgets/controls",
            "_model_module_version": "1.5.0",
            "_model_name": "DescriptionStyleModel",
            "_view_count": null,
            "_view_module": "@jupyter-widgets/base",
            "_view_module_version": "1.2.0",
            "_view_name": "StyleView",
            "description_width": ""
          }
        },
        "841a63783b014bcd83b907c971da7689": {
          "model_module": "@jupyter-widgets/base",
          "model_name": "LayoutModel",
          "model_module_version": "1.2.0",
          "state": {
            "_model_module": "@jupyter-widgets/base",
            "_model_module_version": "1.2.0",
            "_model_name": "LayoutModel",
            "_view_count": null,
            "_view_module": "@jupyter-widgets/base",
            "_view_module_version": "1.2.0",
            "_view_name": "LayoutView",
            "align_content": null,
            "align_items": null,
            "align_self": null,
            "border": null,
            "bottom": null,
            "display": null,
            "flex": null,
            "flex_flow": null,
            "grid_area": null,
            "grid_auto_columns": null,
            "grid_auto_flow": null,
            "grid_auto_rows": null,
            "grid_column": null,
            "grid_gap": null,
            "grid_row": null,
            "grid_template_areas": null,
            "grid_template_columns": null,
            "grid_template_rows": null,
            "height": null,
            "justify_content": null,
            "justify_items": null,
            "left": null,
            "margin": null,
            "max_height": null,
            "max_width": null,
            "min_height": null,
            "min_width": null,
            "object_fit": null,
            "object_position": null,
            "order": null,
            "overflow": null,
            "overflow_x": null,
            "overflow_y": null,
            "padding": null,
            "right": null,
            "top": null,
            "visibility": null,
            "width": null
          }
        },
        "9d174b45fd09412b9d650fa745d9215c": {
          "model_module": "@jupyter-widgets/controls",
          "model_name": "ProgressStyleModel",
          "model_module_version": "1.5.0",
          "state": {
            "_model_module": "@jupyter-widgets/controls",
            "_model_module_version": "1.5.0",
            "_model_name": "ProgressStyleModel",
            "_view_count": null,
            "_view_module": "@jupyter-widgets/base",
            "_view_module_version": "1.2.0",
            "_view_name": "StyleView",
            "bar_color": null,
            "description_width": ""
          }
        },
        "ab0108ae7ef24bbe88d82c02196337c5": {
          "model_module": "@jupyter-widgets/base",
          "model_name": "LayoutModel",
          "model_module_version": "1.2.0",
          "state": {
            "_model_module": "@jupyter-widgets/base",
            "_model_module_version": "1.2.0",
            "_model_name": "LayoutModel",
            "_view_count": null,
            "_view_module": "@jupyter-widgets/base",
            "_view_module_version": "1.2.0",
            "_view_name": "LayoutView",
            "align_content": null,
            "align_items": null,
            "align_self": null,
            "border": null,
            "bottom": null,
            "display": null,
            "flex": null,
            "flex_flow": null,
            "grid_area": null,
            "grid_auto_columns": null,
            "grid_auto_flow": null,
            "grid_auto_rows": null,
            "grid_column": null,
            "grid_gap": null,
            "grid_row": null,
            "grid_template_areas": null,
            "grid_template_columns": null,
            "grid_template_rows": null,
            "height": null,
            "justify_content": null,
            "justify_items": null,
            "left": null,
            "margin": null,
            "max_height": null,
            "max_width": null,
            "min_height": null,
            "min_width": null,
            "object_fit": null,
            "object_position": null,
            "order": null,
            "overflow": null,
            "overflow_x": null,
            "overflow_y": null,
            "padding": null,
            "right": null,
            "top": null,
            "visibility": null,
            "width": null
          }
        },
        "af36ce1293eb48718feea0b32cdde3bd": {
          "model_module": "@jupyter-widgets/controls",
          "model_name": "DescriptionStyleModel",
          "model_module_version": "1.5.0",
          "state": {
            "_model_module": "@jupyter-widgets/controls",
            "_model_module_version": "1.5.0",
            "_model_name": "DescriptionStyleModel",
            "_view_count": null,
            "_view_module": "@jupyter-widgets/base",
            "_view_module_version": "1.2.0",
            "_view_name": "StyleView",
            "description_width": ""
          }
        }
      }
    },
    "accelerator": "GPU"
  },
  "nbformat": 4,
  "nbformat_minor": 5
}
